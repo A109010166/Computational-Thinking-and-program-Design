{
  "nbformat": 4,
  "nbformat_minor": 0,
  "metadata": {
    "colab": {
      "name": "劉子瑜-Week4-練習作業.ipynb",
      "provenance": [],
      "authorship_tag": "ABX9TyP7XsU4j0/m7WJ03tki4aNg",
      "include_colab_link": true
    },
    "kernelspec": {
      "name": "python3",
      "display_name": "Python 3"
    }
  },
  "cells": [
    {
      "cell_type": "markdown",
      "metadata": {
        "id": "view-in-github",
        "colab_type": "text"
      },
      "source": [
        "<a href=\"https://colab.research.google.com/github/A109010166/Computational-Thinking-and-program-Design/blob/main/%E5%8A%89%E5%AD%90%E7%91%9C_Week4_%E7%B7%B4%E7%BF%92%E4%BD%9C%E6%A5%AD.ipynb\" target=\"_parent\"><img src=\"https://colab.research.google.com/assets/colab-badge.svg\" alt=\"Open In Colab\"/></a>"
      ]
    },
    {
      "cell_type": "markdown",
      "metadata": {
        "id": "rBLsnUalVpIs"
      },
      "source": [
        "#隨堂練習"
      ]
    },
    {
      "cell_type": "markdown",
      "metadata": {
        "id": "Oak2PWVoWGyQ"
      },
      "source": [
        "#課後練習\r\n",
        "\r\n"
      ]
    },
    {
      "cell_type": "markdown",
      "metadata": {
        "id": "70CRLFWPYVUN"
      },
      "source": [
        "**課後練習為從一則新聞報導，提出你對新聞系（OO系）學生為什麼要學「運算思維與程式設計」的見解。（告訴我新聞連結，以及你的觀點即可。）**"
      ]
    },
    {
      "cell_type": "markdown",
      "metadata": {
        "id": "Ok4HUT6GYhvX"
      },
      "source": [
        "https://talk.ltn.com.tw/article/paper/1388928\r\n",
        "現在多數大學將程式設計列為大學必修課程，雖然新聞學系較注重文字、器材使用等製作新聞的能力，但其實在設計新聞網頁如電子報等等，都必須運用到程式設計，因此程式其實無所不在。\r\n",
        "且台灣為電子工業大國，未來產業趨勢也將朝著電子化前進。因此懂得程式不僅是基礎更是必須，且多花時間學習程式設計，將來薪資也會隨著時間增加。"
      ]
    },
    {
      "cell_type": "code",
      "metadata": {
        "id": "OJWNf-PNdTB1"
      },
      "source": [
        ""
      ],
      "execution_count": null,
      "outputs": []
    }
  ]
}