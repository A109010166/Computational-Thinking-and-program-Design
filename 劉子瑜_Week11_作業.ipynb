{
  "nbformat": 4,
  "nbformat_minor": 0,
  "metadata": {
    "kernelspec": {
      "display_name": "Python 3",
      "language": "python",
      "name": "python3"
    },
    "language_info": {
      "codemirror_mode": {
        "name": "ipython",
        "version": 3
      },
      "file_extension": ".py",
      "mimetype": "text/x-python",
      "name": "python",
      "nbconvert_exporter": "python",
      "pygments_lexer": "ipython3",
      "version": "3.8.5"
    },
    "colab": {
      "name": "劉子瑜-Week11-作業.ipynb",
      "provenance": [],
      "include_colab_link": true
    }
  },
  "cells": [
    {
      "cell_type": "markdown",
      "metadata": {
        "id": "view-in-github",
        "colab_type": "text"
      },
      "source": [
        "<a href=\"https://colab.research.google.com/github/A109010166/Computational-Thinking-and-program-Design/blob/main/%E5%8A%89%E5%AD%90%E7%91%9C_Week11_%E4%BD%9C%E6%A5%AD.ipynb\" target=\"_parent\"><img src=\"https://colab.research.google.com/assets/colab-badge.svg\" alt=\"Open In Colab\"/></a>"
      ]
    },
    {
      "cell_type": "markdown",
      "metadata": {
        "id": "0wuDHp-htdVt"
      },
      "source": [
        "# 基本程式設計(應用篇)"
      ]
    },
    {
      "cell_type": "markdown",
      "metadata": {
        "id": "EK4SdanxtdV0"
      },
      "source": [
        "### 4-2 運算思維四個基石"
      ]
    },
    {
      "cell_type": "markdown",
      "metadata": {
        "id": "Z_zieOddtdV1"
      },
      "source": [
        "#### 4-2-4  問題拆解 - 打造你的聊天機器人"
      ]
    },
    {
      "cell_type": "markdown",
      "metadata": {
        "id": "KwSlWM0VtdV2"
      },
      "source": [
        "「哈囉，大家好。我叫Zyxo64，是一個聊天機器人。\n",
        "\n",
        "在嗜好與興趣方面，我很喜歡美食，也喜歡養動物。\n",
        "\n",
        "很高興有機會來到世新大學，請大家多多指教。\n",
        "\n",
        "嗨！妳好，請問大名？：Francis。\n",
        "\n",
        "Francis，很高興認識你。"
      ]
    },
    {
      "cell_type": "code",
      "metadata": {
        "colab": {
          "base_uri": "https://localhost:8080/"
        },
        "id": "JbHyofMdtdV3",
        "outputId": "29dfb813-d51a-4bab-88b0-f00c48fa4de3"
      },
      "source": [
        "# 1.聊天機器人自我介紹\n",
        "print(\"哈囉,大家好,我叫Zyxo64,是一個聊天機器人\")\n",
        "print(f\"在嗜好與興趣方面,我很喜歡美食,也喜歡養動物\")\n",
        "\n",
        "hello = \"很高興有機會來到世新大學,請大家多多指教\"\n",
        "print(hello)\n",
        "\n",
        "\n",
        "# 2. 打招呼，取得對方名字\n"
      ],
      "execution_count": null,
      "outputs": [
        {
          "output_type": "stream",
          "text": [
            "哈囉,大家好,我叫Zyxo64,是一個聊天機器人\n",
            "在嗜好與興趣方面,我很喜歡美食,也喜歡養動物\n",
            "很高興有機會來到世新大學,請大家多多指教\n"
          ],
          "name": "stdout"
        }
      ]
    },
    {
      "cell_type": "markdown",
      "metadata": {
        "id": "_v0OJM3RtdV3"
      },
      "source": [
        "抱歉，請問一下今年是西元2021年，那是民國幾年呢？：*110*。\n",
        "\n",
        "對！沒錯，謝謝妳！\n",
        "\n",
        "**Francis**，猜猜看我今年幾歲？ ：**18**。\n",
        "\n",
        "哇！你好聰明，我今年的確*18*。\n",
        "\n",
        "再82年我就100歲了。\n",
        "\n",
        "那時候是西元 2103年，也就是民國192年囉！"
      ]
    },
    {
      "cell_type": "code",
      "metadata": {
        "colab": {
          "base_uri": "https://localhost:8080/"
        },
        "id": "bgAUdak8tdV4",
        "outputId": "6d4d23c0-4137-465f-c8ba-81f372d5a4da"
      },
      "source": [
        "# 3. 數學運算\n",
        "## 3-1 從使用者取得今年年份\n",
        "\n",
        "year = input(\"請問一下今年是西元2021年,那是民國幾年呢? \")\n",
        "print(\"對!應該沒錯,謝謝妳!\")\n",
        "\n",
        "## 3-2 請使用者猜年齡\n",
        "myage = int(input(\"Francis,猜猜看我今年幾歲? \"))\n",
        "print(\"哇!你好聰明,我今年的確\", myage)\n",
        "\n",
        "## 3-3 計算聊天機器人滿100歲的年份\n",
        "\n",
        "nyears = 100 - myage\n",
        "print(\"我再\", nyears, \"年就滿100歲了。\")\n",
        "\n",
        "print(\"到時候是西元\", int(year) + nyears + 1911, \"年\") \n",
        "\n",
        "# 將今年年份轉換為整數\n",
        "print(\"也就是民國\", int(year) + nyears, \"年\") # 民國幾年\n",
        "\n"
      ],
      "execution_count": null,
      "outputs": [
        {
          "output_type": "stream",
          "text": [
            "請問一下今年是西元2021年,那是民國幾年呢? 110\n",
            "對!應該沒錯,謝謝妳!\n",
            "Francis,猜猜看我今年幾歲? 50\n",
            "哇!你好聰明,我今年的確 50\n",
            "我再 50 年就滿100歲了。\n",
            "到時候是西元 2071 年\n",
            "也就是民國 160 年\n"
          ],
          "name": "stdout"
        }
      ]
    },
    {
      "cell_type": "markdown",
      "metadata": {
        "id": "MJJJ-vkRtdV4"
      },
      "source": [
        "我喜歡吃巧克力，也喜歡嘗試各種新食物。\n",
        "\n",
        "你呢？你最喜歡的食物是什麼？**:披薩**。\n",
        "\n",
        "我也喜歡 *披薩*。\n",
        "\n",
        "你多久吃一次 *披薩*？**：每天**。\n",
        "\n",
        "真有趣。不知道這樣對健康好不好。"
      ]
    },
    {
      "cell_type": "code",
      "metadata": {
        "id": "UTkB6CXWtdV5",
        "colab": {
          "base_uri": "https://localhost:8080/"
        },
        "outputId": "a91b92a0-4958-4789-8508-9cfa1b8c0673"
      },
      "source": [
        "# 4 興趣\n",
        "## 4-1 食物話題\n",
        "print(\"我喜歡吃巧克力,也喜歡嘗試各種新食物\")\n",
        "food = input(\"你呢。你最喜歡的食物是什麼 :\")\n",
        "print(\"我也喜歡\", food)\n",
        "\n",
        "#頻率\n",
        "\n",
        "question = \"你多久吃一次\" + food + \"?: \"\n",
        "howoften = input(question)\n",
        "print(\"有趣喔,不知道這樣對健康好不好\")\n"
      ],
      "execution_count": 16,
      "outputs": [
        {
          "output_type": "stream",
          "text": [
            "我喜歡吃巧克力,也喜歡嘗試各種新食物\n",
            "你呢。你最喜歡的食物是什麼 :咖哩\n",
            "我也喜歡 咖哩\n",
            "你多久吃一次咖哩?: 5天\n",
            "有趣喔,不知道這樣對健康好不好\n"
          ],
          "name": "stdout"
        }
      ]
    },
    {
      "cell_type": "markdown",
      "metadata": {
        "id": "EZDkVxWotdV5"
      },
      "source": [
        "我最喜歡的動物是長頸鹿。你呢？ **：烏龜**。\n",
        "\n",
        "我不喜歡*烏龜*！\n",
        "\n",
        "不知道 *烏龜* 喜不喜歡吃 *披薩*？"
      ]
    },
    {
      "cell_type": "code",
      "metadata": {
        "id": "74zvuem_tdV6",
        "colab": {
          "base_uri": "https://localhost:8080/"
        },
        "outputId": "720ef2d6-4e17-4126-cc68-223144b1d261"
      },
      "source": [
        "# 4 興趣\n",
        "## 4-2 動物話題\n",
        "animal = input(\"我最喜歡的動物是長頸鹿。你呢?; \")\n",
        "print(\"我不喜歡\", animal)\n",
        "print(\"不知道\", animal, \"喜不喜歡吃\", food, \"?\")\n"
      ],
      "execution_count": 19,
      "outputs": [
        {
          "output_type": "stream",
          "text": [
            "我最喜歡的動物是長頸鹿。你呢?; 貓\n",
            "我不喜歡 貓\n",
            "不知道 貓 喜不喜歡吃 咖哩 ?\n"
          ],
          "name": "stdout"
        }
      ]
    },
    {
      "cell_type": "markdown",
      "metadata": {
        "id": "GwLXNwbstdV6"
      },
      "source": [
        "你今天的心情如何？ **：很開心**。\n",
        "\n",
        "可以告訴我你 *開心* 的原因嗎？**因為週末了！** \n",
        "\n",
        "祝你週末愉快！\n",
        "\n",
        "我喜歡跟你聊天，現在有點累了，改天再聊吧！！\n",
        "\n",
        "再見 *Francis*！"
      ]
    },
    {
      "cell_type": "code",
      "metadata": {
        "id": "oNtZPqG8tdV6",
        "colab": {
          "base_uri": "https://localhost:8080/"
        },
        "outputId": "9b7fd271-a913-4d8d-aacd-84d5498a490f"
      },
      "source": [
        "# 5. 關於心情的對話\n",
        "feeling = input(\"你今天心情如何?; \")\n",
        "print(\"可以告訴我,你\", feeling, \"的原因。 \")\n",
        "reason = input(\"為什麼: \")\n",
        "print(\"我知道了。謝謝分享。\")"
      ],
      "execution_count": 20,
      "outputs": [
        {
          "output_type": "stream",
          "text": [
            "你今天心情如何?; 不錯ㄝ\n",
            "可以告訴我,你 不錯ㄝ 的原因。 \n",
            "為什麼: 有睡飽\n",
            "我知道了。謝謝分享。\n"
          ],
          "name": "stdout"
        }
      ]
    },
    {
      "cell_type": "markdown",
      "metadata": {
        "id": "MZQQpc-6tdV7"
      },
      "source": [
        "我喜歡跟你聊天，現在有點累了，改天再聊吧！！\n",
        "\n",
        "再見 *Francis*！"
      ]
    },
    {
      "cell_type": "code",
      "metadata": {
        "id": "nIWVTy88tdV7",
        "colab": {
          "base_uri": "https://localhost:8080/"
        },
        "outputId": "55fd1fbf-7992-4e72-883a-98ed8c106fb1"
      },
      "source": [
        "# 6. 道別\n",
        "print(\"我喜歡跟你聊天\")\n",
        "print(\"現在有點累了,改天再聊吧!\")\n",
        "print(\"下次見\")"
      ],
      "execution_count": 21,
      "outputs": [
        {
          "output_type": "stream",
          "text": [
            "我喜歡跟你聊天\n",
            "現在有點累了,改天再聊吧!\n",
            "下次見\n"
          ],
          "name": "stdout"
        }
      ]
    },
    {
      "cell_type": "markdown",
      "metadata": {
        "id": "GUSMsE1ttdV7"
      },
      "source": [
        "## 期末報告"
      ]
    },
    {
      "cell_type": "markdown",
      "metadata": {
        "id": "WIvSh3IMtdV7"
      },
      "source": [
        " 組長(學號姓名):掌聿嘉 A109010040\n",
        "\n"
      ]
    },
    {
      "cell_type": "markdown",
      "metadata": {
        "id": "I0r7ZBgqtdV8"
      },
      "source": [
        "### 組員(學號姓名):\n",
        "劉子瑜 A109010166\n",
        "王予軒 A109010154\n",
        "\n"
      ]
    },
    {
      "cell_type": "markdown",
      "metadata": {
        "id": "7_cQ5m8vtdV8"
      },
      "source": [
        "### 題目:"
      ]
    },
    {
      "cell_type": "markdown",
      "metadata": {
        "id": "-2-yFhdrtdV8"
      },
      "source": [
        "### 百字腳本\n",
        "\n"
      ]
    }
  ]
}