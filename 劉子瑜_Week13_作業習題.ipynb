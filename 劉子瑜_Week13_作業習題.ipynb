{
  "nbformat": 4,
  "nbformat_minor": 0,
  "metadata": {
    "kernelspec": {
      "display_name": "Python 3",
      "language": "python",
      "name": "python3"
    },
    "language_info": {
      "codemirror_mode": {
        "name": "ipython",
        "version": 3
      },
      "file_extension": ".py",
      "mimetype": "text/x-python",
      "name": "python",
      "nbconvert_exporter": "python",
      "pygments_lexer": "ipython3",
      "version": "3.8.5"
    },
    "colab": {
      "name": "劉子瑜- Week13 - 作業習題.ipynb",
      "provenance": [],
      "collapsed_sections": [],
      "include_colab_link": true
    }
  },
  "cells": [
    {
      "cell_type": "markdown",
      "metadata": {
        "id": "view-in-github",
        "colab_type": "text"
      },
      "source": [
        "<a href=\"https://colab.research.google.com/github/A109010166/Computational-Thinking-and-program-Design/blob/main/%E5%8A%89%E5%AD%90%E7%91%9C_Week13_%E4%BD%9C%E6%A5%AD%E7%BF%92%E9%A1%8C.ipynb\" target=\"_parent\"><img src=\"https://colab.research.google.com/assets/colab-badge.svg\" alt=\"Open In Colab\"/></a>"
      ]
    },
    {
      "cell_type": "markdown",
      "metadata": {
        "id": "yK9YYhf6MCzW"
      },
      "source": [
        "**隨堂練習1： BMI 計算**\n",
        "\n",
        "請寫一個程式讓使用者輸入身高與體重，顯示BMI 值與肥胖程度。 BMI 等於體重（KG）除以身高（M）的平方，而BMI 與肥胖分類標準如下：\n",
        "\n",
        "若BMI 值小於18，則顯示「體重過輕」，否則若BMI 值小於24，則顯示「體重正常」，若BMI 值小於27，則顯示「體重過重」，否則顯示「體重肥胖」。"
      ]
    },
    {
      "cell_type": "code",
      "metadata": {
        "colab": {
          "base_uri": "https://localhost:8080/"
        },
        "id": "U53NoDX-MCzb",
        "outputId": "e8d614ac-c5ff-4b10-8815-3012a12dc0e4"
      },
      "source": [
        "Bmi = 33\n",
        "if Bmi <= 18:\n",
        "    print(\"體重過輕\")\n",
        "elif Bmi <= 24:\n",
        "    print(\"體重適中\")\n",
        "elif Bmi <= 27:\n",
        "    print(\"體重過重\")\n",
        "else:\n",
        "    print(\"體重肥胖\")"
      ],
      "execution_count": 1,
      "outputs": [
        {
          "output_type": "stream",
          "text": [
            "體重肥胖\n"
          ],
          "name": "stdout"
        }
      ]
    },
    {
      "cell_type": "markdown",
      "metadata": {
        "id": "WfVNiETjMCze"
      },
      "source": [
        "**隨堂練習2： 三一律(單向選擇、雙向與巢狀選擇、多向選擇)**\n",
        "\n",
        "請輸入一個數，然後判斷這個數是正數、是負數或者是零。"
      ]
    },
    {
      "cell_type": "code",
      "metadata": {
        "colab": {
          "base_uri": "https://localhost:8080/"
        },
        "id": "fabk8etOMCzk",
        "outputId": "512b25a4-30a1-46f7-f285-f7bee393894b"
      },
      "source": [
        "a = int(input(\"請輸入一個數字\"))\n",
        "if a >0:\n",
        "    print(\"正數\")\n",
        "elif a == 0:\n",
        "    print(\"零\")\n",
        "else:\n",
        "    print(\"負數\")"
      ],
      "execution_count": 3,
      "outputs": [
        {
          "output_type": "stream",
          "text": [
            "請輸入一個數字-3\n",
            "負數\n"
          ],
          "name": "stdout"
        }
      ]
    },
    {
      "cell_type": "markdown",
      "metadata": {
        "id": "xEnmdZ5qMCzm"
      },
      "source": [
        "**練習5   體溫與發燒**\n",
        "\n",
        "設計程式根據體溫判斷是否發燒，由使用者輸入體溫，程式判斷是否發燒，假設體溫小於36度，顯示「體溫過低」，體溫大於等於36度小於38度，顯示「體溫正常」，否則若體溫大於等於38度小於39度，顯示「體溫有點燒」，否則體溫大於等於39度，顯示「體溫很燒」。\n",
        "\n",
        "輸入體溫「36.5」，輸出為「體溫正常」。\n",
        "\n",
        "～程式執行結果如下。\n",
        "\n",
        "請輸入體溫？36.5\n",
        "\n",
        "體溫正常"
      ]
    },
    {
      "cell_type": "code",
      "metadata": {
        "colab": {
          "base_uri": "https://localhost:8080/"
        },
        "id": "T-93mtnqMCzw",
        "outputId": "b553af5d-5001-4264-d0e6-70d49dacce18"
      },
      "source": [
        "a = int(input(\"請輸入體溫\"))\n",
        "if 38 > a > 36:\n",
        "    print(\"體溫正常\")\n",
        "elif 39 > a >=38:\n",
        "    print(\"體溫有點燒\")\n",
        "else:\n",
        "    print(\"體溫很燒\")\n"
      ],
      "execution_count": 5,
      "outputs": [
        {
          "output_type": "stream",
          "text": [
            "請輸入體溫40\n",
            "體溫很燒\n"
          ],
          "name": "stdout"
        }
      ]
    },
    {
      "cell_type": "markdown",
      "metadata": {
        "id": "B_QIjOqjMCzy"
      },
      "source": [
        "**練習6  閏年判斷**\n",
        "\n",
        "設計程式允許輸入西元幾年，請求出該年是否是閏年，閏年表示該年多一天，若為4的倍數稱做閏年，但若為100的倍數就不為閏年，且若為400倍數又是閏年。(四年一潤、百年不潤、四百年再潤)\n",
        "\n",
        "輸入年份「2012」，輸出為「2012是閏年」。\n",
        "\n",
        "～程式執行結果如下。\n",
        "\n",
        "請輸入年份？2012\n",
        "\n",
        "2012 是閏年"
      ]
    },
    {
      "cell_type": "code",
      "metadata": {
        "colab": {
          "base_uri": "https://localhost:8080/"
        },
        "id": "2uyCDocgMCz2",
        "outputId": "d4cd8dee-3ce5-4c41-f925-ba27a9c1a8f9"
      },
      "source": [
        "a = int(input(\"請輸入年份\"))\n",
        "if a%4 == 0:\n",
        "    print(\"閏年\")\n",
        "elif a%400 ==0:\n",
        "    print(\"閏年\")\n",
        "else:\n",
        "    print(\"不為閏年\")"
      ],
      "execution_count": 6,
      "outputs": [
        {
          "output_type": "stream",
          "text": [
            "請輸入年份2034\n",
            "不為閏年\n"
          ],
          "name": "stdout"
        }
      ]
    },
    {
      "cell_type": "markdown",
      "metadata": {
        "id": "F36L1v7mMCz4"
      },
      "source": [
        "**練習12：計程車計費**\n",
        "\n",
        "某城市計程車計費3公里以內6元，超過3公里不足10公里、每公里1.8元，超過10公里則超過部分加收50%。此外停車等候每3分鐘收1元，請用Python寫出車費是多少。"
      ]
    },
    {
      "cell_type": "code",
      "metadata": {
        "colab": {
          "base_uri": "https://localhost:8080/",
          "height": 133
        },
        "id": "42lN4VAYMCz6",
        "outputId": "7fb0ab70-0cf5-4c4b-bd71-cbd8e377f57b"
      },
      "source": [
        "a = int(input(\"請輸入公里數\"))\n",
        "if a <= 3:\n",
        "    print(\"六元\")\n",
        "elif 3<a<10 :\n",
        "    print(\"1.8*{a}\")\n",
        "else a >=10:\n",
        "    print(4)\n",
        "\n"
      ],
      "execution_count": 11,
      "outputs": [
        {
          "output_type": "error",
          "ename": "SyntaxError",
          "evalue": "ignored",
          "traceback": [
            "\u001b[0;36m  File \u001b[0;32m\"<ipython-input-11-7b66a17722e9>\"\u001b[0;36m, line \u001b[0;32m6\u001b[0m\n\u001b[0;31m    else a >=10:\u001b[0m\n\u001b[0m         ^\u001b[0m\n\u001b[0;31mSyntaxError\u001b[0m\u001b[0;31m:\u001b[0m invalid syntax\n"
          ]
        }
      ]
    },
    {
      "cell_type": "markdown",
      "metadata": {
        "id": "KuyxKt2mSTl5"
      },
      "source": [
        "不太懂此題解法，下禮拜上課時會好好聽講， 謝謝老師！"
      ]
    },
    {
      "cell_type": "code",
      "metadata": {
        "id": "KAMgC5xkMCz8"
      },
      "source": [
        ""
      ],
      "execution_count": null,
      "outputs": []
    }
  ]
}